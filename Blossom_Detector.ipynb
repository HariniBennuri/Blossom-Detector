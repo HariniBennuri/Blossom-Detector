{
  "nbformat": 4,
  "nbformat_minor": 0,
  "metadata": {
    "colab": {
      "provenance": []
    },
    "kernelspec": {
      "name": "python3",
      "display_name": "Python 3"
    },
    "language_info": {
      "name": "python"
    }
  },
  "cells": [
    {
      "cell_type": "markdown",
      "source": [
        "#FLOWER SPECIES IMAGE CLASSIFIER\n",
        "This project aims to classify different species of flowers from images\n"
      ],
      "metadata": {
        "id": "2TA0nsFzQRMT"
      }
    },
    {
      "cell_type": "code",
      "source": [
        "from google.colab import drive\n",
        "drive.mount('/content/drive')"
      ],
      "metadata": {
        "colab": {
          "base_uri": "https://localhost:8080/"
        },
        "id": "fFRdbO5QVtaN",
        "outputId": "640dec65-cbc4-4452-e3c3-cf032949c17c"
      },
      "execution_count": 1,
      "outputs": [
        {
          "output_type": "stream",
          "name": "stdout",
          "text": [
            "Mounted at /content/drive\n"
          ]
        }
      ]
    },
    {
      "cell_type": "code",
      "source": [
        "import pandas as pd\n",
        "import numpy as np\n",
        "import matplotlib.pyplot as plt\n",
        "import seaborn as sns\n",
        "\n",
        "from sklearn.model_selection import train_test_split\n",
        "from sklearn.preprocessing import StandardScaler,LabelEncoder\n",
        "from sklearn.metrics import classification_report, confusion_matrix\n",
        "from sklearn.model_selection import train_test_split\n",
        "from tensorflow.keras import layers, models\n",
        "\n",
        "import tensorflow as tf\n",
        "from tensorflow import keras\n",
        "from tensorflow.keras.layers import Embedding, LSTM, Dense,Flatten, Bidirectional, Dropout,Conv2D, MaxPooling2D\n",
        "from tensorflow.keras.preprocessing.text import Tokenizer\n",
        "from tensorflow.keras.preprocessing.sequence import pad_sequences\n",
        "from tensorflow.keras.models import Sequential\n",
        "from tensorflow.keras.utils import to_categorical\n",
        "\n",
        "from tensorflow.keras.losses import BinaryCrossentropy\n",
        "from tensorflow.keras.optimizers import Adam\n",
        "from sklearn.model_selection import train_test_split\n",
        "from sklearn.metrics import accuracy_score\n",
        "\n",
        "import os\n",
        "from PIL import Image\n",
        "from sklearn.model_selection import train_test_split\n",
        "\n",
        "from sklearn.metrics import accuracy_score, precision_score, recall_score, f1_score"
      ],
      "metadata": {
        "id": "Q7fFCxX7V7Pn"
      },
      "execution_count": 18,
      "outputs": []
    },
    {
      "cell_type": "code",
      "source": [
        "df=pd.read_csv(\"/content/drive/MyDrive/WISE ML/Iris.csv\")"
      ],
      "metadata": {
        "id": "nu2e8sY5WFQN"
      },
      "execution_count": 6,
      "outputs": []
    },
    {
      "cell_type": "code",
      "source": [
        "print(df.head())\n",
        "# Now I have extracted the features (SepalLengthCm, SepalWidthCm, PetalLengthCm, PetalWidthCm)\n",
        "# labels (Species)\n",
        "X = df[['SepalLengthCm', 'SepalWidthCm', 'PetalLengthCm', 'PetalWidthCm']]\n",
        "y = df['Species']"
      ],
      "metadata": {
        "colab": {
          "base_uri": "https://localhost:8080/"
        },
        "id": "QtcisNSbX6Lw",
        "outputId": "fd75bf0a-770a-4058-f3ac-da5e8cc8d06b"
      },
      "execution_count": 7,
      "outputs": [
        {
          "output_type": "stream",
          "name": "stdout",
          "text": [
            "   Id  SepalLengthCm  SepalWidthCm  PetalLengthCm  PetalWidthCm      Species\n",
            "0   1            5.1           3.5            1.4           0.2  Iris-setosa\n",
            "1   2            4.9           3.0            1.4           0.2  Iris-setosa\n",
            "2   3            4.7           3.2            1.3           0.2  Iris-setosa\n",
            "3   4            4.6           3.1            1.5           0.2  Iris-setosa\n",
            "4   5            5.0           3.6            1.4           0.2  Iris-setosa\n"
          ]
        }
      ]
    },
    {
      "cell_type": "code",
      "source": [
        "# Spliting the data into both training and testing sets\n",
        "X_train, X_test, y_train, y_test = train_test_split(X, y, test_size=0.2, random_state=42)\n",
        "\n",
        "# Standardizing\n",
        "scaler = StandardScaler()\n",
        "X_train = scaler.fit_transform(X_train)\n",
        "X_test = scaler.transform(X_test)\n",
        "\n",
        "# Encoding th speices into numerical values\n",
        "label_encoder = LabelEncoder()\n",
        "y_train = label_encoder.fit_transform(y_train)\n",
        "y_test = label_encoder.transform(y_test)\n"
      ],
      "metadata": {
        "id": "c0jA_z_jY6kO"
      },
      "execution_count": 12,
      "outputs": []
    },
    {
      "cell_type": "code",
      "source": [
        "# model selected is sequential model under CNN\n",
        "model = models.Sequential([\n",
        "    layers.Dense(64, activation='relu', input_shape=(4,)),\n",
        "    layers.Dense(32, activation='relu'),\n",
        "    layers.Dense(3, activation='softmax')\n",
        "])"
      ],
      "metadata": {
        "id": "W8HnVHpYY84T"
      },
      "execution_count": 13,
      "outputs": []
    },
    {
      "cell_type": "code",
      "source": [
        "# Compilation of model\n",
        "model.compile(optimizer='adam',\n",
        "              loss='sparse_categorical_crossentropy',\n",
        "              metrics=['accuracy'])\n"
      ],
      "metadata": {
        "id": "Pb5gRqgvce91"
      },
      "execution_count": 14,
      "outputs": []
    },
    {
      "cell_type": "code",
      "source": [
        "# Training of sequential model\n",
        "model.fit(X_train, y_train, epochs=50, validation_data=(X_test, y_test))"
      ],
      "metadata": {
        "colab": {
          "base_uri": "https://localhost:8080/"
        },
        "id": "vq5aWGW6Zbm3",
        "outputId": "c381faf5-1f77-4494-80b0-c19277a5a5f6"
      },
      "execution_count": 15,
      "outputs": [
        {
          "output_type": "stream",
          "name": "stdout",
          "text": [
            "Epoch 1/50\n",
            "4/4 [==============================] - 1s 103ms/step - loss: 1.0543 - accuracy: 0.3750 - val_loss: 0.9793 - val_accuracy: 0.5000\n",
            "Epoch 2/50\n",
            "4/4 [==============================] - 0s 22ms/step - loss: 0.9839 - accuracy: 0.6417 - val_loss: 0.9089 - val_accuracy: 0.7667\n",
            "Epoch 3/50\n",
            "4/4 [==============================] - 0s 13ms/step - loss: 0.9220 - accuracy: 0.7083 - val_loss: 0.8454 - val_accuracy: 0.8333\n",
            "Epoch 4/50\n",
            "4/4 [==============================] - 0s 20ms/step - loss: 0.8653 - accuracy: 0.8083 - val_loss: 0.7896 - val_accuracy: 0.8333\n",
            "Epoch 5/50\n",
            "4/4 [==============================] - 0s 19ms/step - loss: 0.8154 - accuracy: 0.8250 - val_loss: 0.7390 - val_accuracy: 0.8333\n",
            "Epoch 6/50\n",
            "4/4 [==============================] - 0s 20ms/step - loss: 0.7707 - accuracy: 0.8250 - val_loss: 0.6929 - val_accuracy: 0.8333\n",
            "Epoch 7/50\n",
            "4/4 [==============================] - 0s 13ms/step - loss: 0.7283 - accuracy: 0.8250 - val_loss: 0.6505 - val_accuracy: 0.8667\n",
            "Epoch 8/50\n",
            "4/4 [==============================] - 0s 20ms/step - loss: 0.6893 - accuracy: 0.8333 - val_loss: 0.6093 - val_accuracy: 0.8667\n",
            "Epoch 9/50\n",
            "4/4 [==============================] - 0s 29ms/step - loss: 0.6513 - accuracy: 0.8333 - val_loss: 0.5702 - val_accuracy: 0.8667\n",
            "Epoch 10/50\n",
            "4/4 [==============================] - 0s 38ms/step - loss: 0.6140 - accuracy: 0.8333 - val_loss: 0.5323 - val_accuracy: 0.9000\n",
            "Epoch 11/50\n",
            "4/4 [==============================] - 0s 24ms/step - loss: 0.5785 - accuracy: 0.8333 - val_loss: 0.4957 - val_accuracy: 0.9000\n",
            "Epoch 12/50\n",
            "4/4 [==============================] - 0s 16ms/step - loss: 0.5424 - accuracy: 0.8250 - val_loss: 0.4600 - val_accuracy: 0.9000\n",
            "Epoch 13/50\n",
            "4/4 [==============================] - 0s 12ms/step - loss: 0.5070 - accuracy: 0.8250 - val_loss: 0.4264 - val_accuracy: 0.9000\n",
            "Epoch 14/50\n",
            "4/4 [==============================] - 0s 11ms/step - loss: 0.4760 - accuracy: 0.8333 - val_loss: 0.3949 - val_accuracy: 0.9000\n",
            "Epoch 15/50\n",
            "4/4 [==============================] - 0s 9ms/step - loss: 0.4464 - accuracy: 0.8333 - val_loss: 0.3671 - val_accuracy: 0.9000\n",
            "Epoch 16/50\n",
            "4/4 [==============================] - 0s 8ms/step - loss: 0.4201 - accuracy: 0.8417 - val_loss: 0.3424 - val_accuracy: 0.9000\n",
            "Epoch 17/50\n",
            "4/4 [==============================] - 0s 8ms/step - loss: 0.3968 - accuracy: 0.8500 - val_loss: 0.3198 - val_accuracy: 0.9000\n",
            "Epoch 18/50\n",
            "4/4 [==============================] - 0s 8ms/step - loss: 0.3752 - accuracy: 0.8583 - val_loss: 0.3007 - val_accuracy: 0.9000\n",
            "Epoch 19/50\n",
            "4/4 [==============================] - 0s 8ms/step - loss: 0.3562 - accuracy: 0.8583 - val_loss: 0.2845 - val_accuracy: 0.9000\n",
            "Epoch 20/50\n",
            "4/4 [==============================] - 0s 9ms/step - loss: 0.3396 - accuracy: 0.8583 - val_loss: 0.2696 - val_accuracy: 0.9000\n",
            "Epoch 21/50\n",
            "4/4 [==============================] - 0s 8ms/step - loss: 0.3238 - accuracy: 0.8667 - val_loss: 0.2563 - val_accuracy: 0.9333\n",
            "Epoch 22/50\n",
            "4/4 [==============================] - 0s 9ms/step - loss: 0.3104 - accuracy: 0.8917 - val_loss: 0.2439 - val_accuracy: 0.9333\n",
            "Epoch 23/50\n",
            "4/4 [==============================] - 0s 10ms/step - loss: 0.2977 - accuracy: 0.9000 - val_loss: 0.2336 - val_accuracy: 0.9333\n",
            "Epoch 24/50\n",
            "4/4 [==============================] - 0s 9ms/step - loss: 0.2856 - accuracy: 0.9000 - val_loss: 0.2233 - val_accuracy: 0.9333\n",
            "Epoch 25/50\n",
            "4/4 [==============================] - 0s 8ms/step - loss: 0.2752 - accuracy: 0.9000 - val_loss: 0.2139 - val_accuracy: 0.9333\n",
            "Epoch 26/50\n",
            "4/4 [==============================] - 0s 7ms/step - loss: 0.2646 - accuracy: 0.9250 - val_loss: 0.2054 - val_accuracy: 0.9333\n",
            "Epoch 27/50\n",
            "4/4 [==============================] - 0s 9ms/step - loss: 0.2547 - accuracy: 0.9250 - val_loss: 0.1970 - val_accuracy: 0.9333\n",
            "Epoch 28/50\n",
            "4/4 [==============================] - 0s 8ms/step - loss: 0.2457 - accuracy: 0.9250 - val_loss: 0.1900 - val_accuracy: 0.9333\n",
            "Epoch 29/50\n",
            "4/4 [==============================] - 0s 9ms/step - loss: 0.2366 - accuracy: 0.9333 - val_loss: 0.1830 - val_accuracy: 0.9333\n",
            "Epoch 30/50\n",
            "4/4 [==============================] - 0s 8ms/step - loss: 0.2281 - accuracy: 0.9500 - val_loss: 0.1753 - val_accuracy: 0.9333\n",
            "Epoch 31/50\n",
            "4/4 [==============================] - 0s 9ms/step - loss: 0.2202 - accuracy: 0.9500 - val_loss: 0.1692 - val_accuracy: 0.9667\n",
            "Epoch 32/50\n",
            "4/4 [==============================] - 0s 8ms/step - loss: 0.2133 - accuracy: 0.9500 - val_loss: 0.1624 - val_accuracy: 1.0000\n",
            "Epoch 33/50\n",
            "4/4 [==============================] - 0s 11ms/step - loss: 0.2059 - accuracy: 0.9500 - val_loss: 0.1575 - val_accuracy: 1.0000\n",
            "Epoch 34/50\n",
            "4/4 [==============================] - 0s 8ms/step - loss: 0.1986 - accuracy: 0.9500 - val_loss: 0.1528 - val_accuracy: 1.0000\n",
            "Epoch 35/50\n",
            "4/4 [==============================] - 0s 9ms/step - loss: 0.1935 - accuracy: 0.9500 - val_loss: 0.1493 - val_accuracy: 1.0000\n",
            "Epoch 36/50\n",
            "4/4 [==============================] - 0s 9ms/step - loss: 0.1855 - accuracy: 0.9500 - val_loss: 0.1428 - val_accuracy: 1.0000\n",
            "Epoch 37/50\n",
            "4/4 [==============================] - 0s 8ms/step - loss: 0.1798 - accuracy: 0.9500 - val_loss: 0.1374 - val_accuracy: 1.0000\n",
            "Epoch 38/50\n",
            "4/4 [==============================] - 0s 8ms/step - loss: 0.1741 - accuracy: 0.9500 - val_loss: 0.1333 - val_accuracy: 1.0000\n",
            "Epoch 39/50\n",
            "4/4 [==============================] - 0s 9ms/step - loss: 0.1687 - accuracy: 0.9500 - val_loss: 0.1286 - val_accuracy: 1.0000\n",
            "Epoch 40/50\n",
            "4/4 [==============================] - 0s 8ms/step - loss: 0.1629 - accuracy: 0.9500 - val_loss: 0.1258 - val_accuracy: 1.0000\n",
            "Epoch 41/50\n",
            "4/4 [==============================] - 0s 8ms/step - loss: 0.1580 - accuracy: 0.9583 - val_loss: 0.1239 - val_accuracy: 1.0000\n",
            "Epoch 42/50\n",
            "4/4 [==============================] - 0s 8ms/step - loss: 0.1531 - accuracy: 0.9583 - val_loss: 0.1199 - val_accuracy: 1.0000\n",
            "Epoch 43/50\n",
            "4/4 [==============================] - 0s 8ms/step - loss: 0.1481 - accuracy: 0.9583 - val_loss: 0.1172 - val_accuracy: 1.0000\n",
            "Epoch 44/50\n",
            "4/4 [==============================] - 0s 9ms/step - loss: 0.1447 - accuracy: 0.9500 - val_loss: 0.1155 - val_accuracy: 1.0000\n",
            "Epoch 45/50\n",
            "4/4 [==============================] - 0s 10ms/step - loss: 0.1394 - accuracy: 0.9500 - val_loss: 0.1120 - val_accuracy: 1.0000\n",
            "Epoch 46/50\n",
            "4/4 [==============================] - 0s 11ms/step - loss: 0.1352 - accuracy: 0.9583 - val_loss: 0.1093 - val_accuracy: 1.0000\n",
            "Epoch 47/50\n",
            "4/4 [==============================] - 0s 8ms/step - loss: 0.1323 - accuracy: 0.9500 - val_loss: 0.1075 - val_accuracy: 1.0000\n",
            "Epoch 48/50\n",
            "4/4 [==============================] - 0s 8ms/step - loss: 0.1300 - accuracy: 0.9583 - val_loss: 0.1027 - val_accuracy: 1.0000\n",
            "Epoch 49/50\n",
            "4/4 [==============================] - 0s 14ms/step - loss: 0.1246 - accuracy: 0.9583 - val_loss: 0.1011 - val_accuracy: 1.0000\n",
            "Epoch 50/50\n",
            "4/4 [==============================] - 0s 9ms/step - loss: 0.1214 - accuracy: 0.9583 - val_loss: 0.0990 - val_accuracy: 1.0000\n"
          ]
        },
        {
          "output_type": "execute_result",
          "data": {
            "text/plain": [
              "<keras.callbacks.History at 0x7e1ca461ffd0>"
            ]
          },
          "metadata": {},
          "execution_count": 15
        }
      ]
    },
    {
      "cell_type": "code",
      "source": [
        "# Evaluating the built sequential model\n",
        "test_loss, test_accuracy = model.evaluate(X_test, y_test)\n",
        "print(f'Test accuracy: {test_accuracy}')"
      ],
      "metadata": {
        "colab": {
          "base_uri": "https://localhost:8080/"
        },
        "id": "poRWWprFZeFG",
        "outputId": "b41d3a2c-33b7-48d0-e952-afed66b33c35"
      },
      "execution_count": 16,
      "outputs": [
        {
          "output_type": "stream",
          "name": "stdout",
          "text": [
            "1/1 [==============================] - 0s 21ms/step - loss: 0.0990 - accuracy: 1.0000\n",
            "Test accuracy: 1.0\n"
          ]
        }
      ]
    }
  ]
}